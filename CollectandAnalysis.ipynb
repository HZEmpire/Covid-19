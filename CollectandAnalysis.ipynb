{
 "cells": [
  {
   "cell_type": "markdown",
   "metadata": {},
   "source": [
    "__Author: Haozhou__\n"
   ]
  },
  {
   "cell_type": "code",
   "execution_count": 2,
   "metadata": {},
   "outputs": [],
   "source": [
    "#Covid-19\n",
    "import pandas as pd\n",
    "import requests\n",
    "import re\n",
    "import seaborn as sns\n",
    "from bs4 import BeautifulSoup\n",
    "import matplotlib.pyplot as plt\n",
    "from sklearn import datasets, svm, metrics\n",
    "from sklearn.model_selection import train_test_split\n",
    "from sklearn.tree import DecisionTreeClassifier\n",
    "from sklearn.metrics import accuracy_score"
   ]
  },
  {
   "cell_type": "code",
   "execution_count": 3,
   "metadata": {},
   "outputs": [],
   "source": [
    "#1>\n",
    "\n",
    "#Preparation\n",
    "webpage = requests.get(\"https://github.com/CSSEGISandData/COVID-19/tree/master/csse_covid_19_data/csse_covid_19_daily_reports\").text\n",
    "page = BeautifulSoup(webpage, \"lxml\")\n",
    "alist = page(\"a\")\n",
    "hrefs = []\n",
    "for each in alist:\n",
    "    if each.has_attr(\"href\"):\n",
    "        hrefs.append(each[\"href\"])\n",
    "rawstart = \"https://raw.githubusercontent.com\"\n",
    "links = []\n",
    "for each in hrefs:\n",
    "    if (re.search(\".*-2020.csv$\", each)):\n",
    "        links.append(rawstart + re.sub(\"blob/master\", \"master\", each))\n"
   ]
  },
  {
   "cell_type": "code",
   "execution_count": 4,
   "metadata": {},
   "outputs": [],
   "source": [
    "#Scrap\n",
    "datas = []\n",
    "for each in links:\n",
    "    temp = pd.read_csv(each)\n",
    "    datas.append(temp[(temp == \"Hong Kong\").any(axis = 1)])"
   ]
  },
  {
   "cell_type": "code",
   "execution_count": 5,
   "metadata": {},
   "outputs": [
    {
     "data": {
      "text/html": [
       "<div>\n",
       "<style scoped>\n",
       "    .dataframe tbody tr th:only-of-type {\n",
       "        vertical-align: middle;\n",
       "    }\n",
       "\n",
       "    .dataframe tbody tr th {\n",
       "        vertical-align: top;\n",
       "    }\n",
       "\n",
       "    .dataframe thead th {\n",
       "        text-align: right;\n",
       "    }\n",
       "</style>\n",
       "<table border=\"1\" class=\"dataframe\">\n",
       "  <thead>\n",
       "    <tr style=\"text-align: right;\">\n",
       "      <th></th>\n",
       "      <th>Date</th>\n",
       "      <th>Province/State</th>\n",
       "      <th>Country/Region</th>\n",
       "      <th>Last Update</th>\n",
       "      <th>Confirmed</th>\n",
       "      <th>Deaths</th>\n",
       "      <th>Active</th>\n",
       "      <th>Recovered</th>\n",
       "      <th>Latitude</th>\n",
       "      <th>Longitude</th>\n",
       "      <th>Combined_Key</th>\n",
       "      <th>Incident_Rate</th>\n",
       "      <th>Case_Fatality_Ratio</th>\n",
       "    </tr>\n",
       "  </thead>\n",
       "  <tbody>\n",
       "    <tr>\n",
       "      <th>0</th>\n",
       "      <td>2020-01-22</td>\n",
       "      <td>Hong Kong</td>\n",
       "      <td>China</td>\n",
       "      <td>2020-01-22 17:00:00</td>\n",
       "      <td>0.0</td>\n",
       "      <td>0.0</td>\n",
       "      <td>0.0</td>\n",
       "      <td>0.0</td>\n",
       "      <td>22.3</td>\n",
       "      <td>114.2</td>\n",
       "      <td>Hong Kong, China</td>\n",
       "      <td>NaN</td>\n",
       "      <td>NaN</td>\n",
       "    </tr>\n",
       "    <tr>\n",
       "      <th>1</th>\n",
       "      <td>2020-01-23</td>\n",
       "      <td>Hong Kong</td>\n",
       "      <td>China</td>\n",
       "      <td>2020-01-23 17:00:00</td>\n",
       "      <td>2.0</td>\n",
       "      <td>0.0</td>\n",
       "      <td>0.0</td>\n",
       "      <td>0.0</td>\n",
       "      <td>22.3</td>\n",
       "      <td>114.2</td>\n",
       "      <td>Hong Kong, China</td>\n",
       "      <td>NaN</td>\n",
       "      <td>NaN</td>\n",
       "    </tr>\n",
       "    <tr>\n",
       "      <th>2</th>\n",
       "      <td>2020-01-24</td>\n",
       "      <td>Hong Kong</td>\n",
       "      <td>China</td>\n",
       "      <td>2020-01-24 17:00:00</td>\n",
       "      <td>2.0</td>\n",
       "      <td>0.0</td>\n",
       "      <td>0.0</td>\n",
       "      <td>0.0</td>\n",
       "      <td>22.3</td>\n",
       "      <td>114.2</td>\n",
       "      <td>Hong Kong, China</td>\n",
       "      <td>NaN</td>\n",
       "      <td>NaN</td>\n",
       "    </tr>\n",
       "    <tr>\n",
       "      <th>3</th>\n",
       "      <td>2020-01-25</td>\n",
       "      <td>Hong Kong</td>\n",
       "      <td>China</td>\n",
       "      <td>2020-01-25 17:00:00</td>\n",
       "      <td>5.0</td>\n",
       "      <td>0.0</td>\n",
       "      <td>0.0</td>\n",
       "      <td>0.0</td>\n",
       "      <td>22.3</td>\n",
       "      <td>114.2</td>\n",
       "      <td>Hong Kong, China</td>\n",
       "      <td>NaN</td>\n",
       "      <td>NaN</td>\n",
       "    </tr>\n",
       "    <tr>\n",
       "      <th>4</th>\n",
       "      <td>2020-01-26</td>\n",
       "      <td>Hong Kong</td>\n",
       "      <td>China</td>\n",
       "      <td>2020-01-26 16:00:00</td>\n",
       "      <td>8.0</td>\n",
       "      <td>0.0</td>\n",
       "      <td>0.0</td>\n",
       "      <td>0.0</td>\n",
       "      <td>22.3</td>\n",
       "      <td>114.2</td>\n",
       "      <td>Hong Kong, China</td>\n",
       "      <td>NaN</td>\n",
       "      <td>NaN</td>\n",
       "    </tr>\n",
       "    <tr>\n",
       "      <th>...</th>\n",
       "      <td>...</td>\n",
       "      <td>...</td>\n",
       "      <td>...</td>\n",
       "      <td>...</td>\n",
       "      <td>...</td>\n",
       "      <td>...</td>\n",
       "      <td>...</td>\n",
       "      <td>...</td>\n",
       "      <td>...</td>\n",
       "      <td>...</td>\n",
       "      <td>...</td>\n",
       "      <td>...</td>\n",
       "      <td>...</td>\n",
       "    </tr>\n",
       "    <tr>\n",
       "      <th>340</th>\n",
       "      <td>2020-12-27</td>\n",
       "      <td>Hong Kong</td>\n",
       "      <td>China</td>\n",
       "      <td>2020-12-28 05:22:06</td>\n",
       "      <td>8610.0</td>\n",
       "      <td>137.0</td>\n",
       "      <td>999.0</td>\n",
       "      <td>7474.0</td>\n",
       "      <td>22.3</td>\n",
       "      <td>114.2</td>\n",
       "      <td>Hong Kong, China</td>\n",
       "      <td>114.846122</td>\n",
       "      <td>1.591173</td>\n",
       "    </tr>\n",
       "    <tr>\n",
       "      <th>341</th>\n",
       "      <td>2020-12-28</td>\n",
       "      <td>Hong Kong</td>\n",
       "      <td>China</td>\n",
       "      <td>2020-12-29 05:22:37</td>\n",
       "      <td>8671.0</td>\n",
       "      <td>141.0</td>\n",
       "      <td>1004.0</td>\n",
       "      <td>7526.0</td>\n",
       "      <td>22.3</td>\n",
       "      <td>114.2</td>\n",
       "      <td>Hong Kong, China</td>\n",
       "      <td>115.659782</td>\n",
       "      <td>1.626110</td>\n",
       "    </tr>\n",
       "    <tr>\n",
       "      <th>342</th>\n",
       "      <td>2020-12-29</td>\n",
       "      <td>Hong Kong</td>\n",
       "      <td>China</td>\n",
       "      <td>2020-12-30 05:22:34</td>\n",
       "      <td>8724.0</td>\n",
       "      <td>143.0</td>\n",
       "      <td>965.0</td>\n",
       "      <td>7616.0</td>\n",
       "      <td>22.3</td>\n",
       "      <td>114.2</td>\n",
       "      <td>Hong Kong, China</td>\n",
       "      <td>116.366733</td>\n",
       "      <td>1.639156</td>\n",
       "    </tr>\n",
       "    <tr>\n",
       "      <th>343</th>\n",
       "      <td>2020-12-30</td>\n",
       "      <td>Hong Kong</td>\n",
       "      <td>China</td>\n",
       "      <td>2020-12-31 05:22:49</td>\n",
       "      <td>8778.0</td>\n",
       "      <td>147.0</td>\n",
       "      <td>909.0</td>\n",
       "      <td>7722.0</td>\n",
       "      <td>22.3</td>\n",
       "      <td>114.2</td>\n",
       "      <td>Hong Kong, China</td>\n",
       "      <td>117.087022</td>\n",
       "      <td>1.674641</td>\n",
       "    </tr>\n",
       "    <tr>\n",
       "      <th>344</th>\n",
       "      <td>2020-12-31</td>\n",
       "      <td>Hong Kong</td>\n",
       "      <td>China</td>\n",
       "      <td>2021-01-01 05:23:07</td>\n",
       "      <td>8846.0</td>\n",
       "      <td>148.0</td>\n",
       "      <td>885.0</td>\n",
       "      <td>7813.0</td>\n",
       "      <td>22.3</td>\n",
       "      <td>114.2</td>\n",
       "      <td>Hong Kong, China</td>\n",
       "      <td>117.994053</td>\n",
       "      <td>1.673073</td>\n",
       "    </tr>\n",
       "  </tbody>\n",
       "</table>\n",
       "<p>345 rows × 13 columns</p>\n",
       "</div>"
      ],
      "text/plain": [
       "          Date Province/State Country/Region         Last Update  Confirmed  \\\n",
       "0   2020-01-22      Hong Kong          China 2020-01-22 17:00:00        0.0   \n",
       "1   2020-01-23      Hong Kong          China 2020-01-23 17:00:00        2.0   \n",
       "2   2020-01-24      Hong Kong          China 2020-01-24 17:00:00        2.0   \n",
       "3   2020-01-25      Hong Kong          China 2020-01-25 17:00:00        5.0   \n",
       "4   2020-01-26      Hong Kong          China 2020-01-26 16:00:00        8.0   \n",
       "..         ...            ...            ...                 ...        ...   \n",
       "340 2020-12-27      Hong Kong          China 2020-12-28 05:22:06     8610.0   \n",
       "341 2020-12-28      Hong Kong          China 2020-12-29 05:22:37     8671.0   \n",
       "342 2020-12-29      Hong Kong          China 2020-12-30 05:22:34     8724.0   \n",
       "343 2020-12-30      Hong Kong          China 2020-12-31 05:22:49     8778.0   \n",
       "344 2020-12-31      Hong Kong          China 2021-01-01 05:23:07     8846.0   \n",
       "\n",
       "     Deaths  Active  Recovered  Latitude  Longitude      Combined_Key  \\\n",
       "0       0.0     0.0        0.0      22.3      114.2  Hong Kong, China   \n",
       "1       0.0     0.0        0.0      22.3      114.2  Hong Kong, China   \n",
       "2       0.0     0.0        0.0      22.3      114.2  Hong Kong, China   \n",
       "3       0.0     0.0        0.0      22.3      114.2  Hong Kong, China   \n",
       "4       0.0     0.0        0.0      22.3      114.2  Hong Kong, China   \n",
       "..      ...     ...        ...       ...        ...               ...   \n",
       "340   137.0   999.0     7474.0      22.3      114.2  Hong Kong, China   \n",
       "341   141.0  1004.0     7526.0      22.3      114.2  Hong Kong, China   \n",
       "342   143.0   965.0     7616.0      22.3      114.2  Hong Kong, China   \n",
       "343   147.0   909.0     7722.0      22.3      114.2  Hong Kong, China   \n",
       "344   148.0   885.0     7813.0      22.3      114.2  Hong Kong, China   \n",
       "\n",
       "     Incident_Rate  Case_Fatality_Ratio  \n",
       "0              NaN                  NaN  \n",
       "1              NaN                  NaN  \n",
       "2              NaN                  NaN  \n",
       "3              NaN                  NaN  \n",
       "4              NaN                  NaN  \n",
       "..             ...                  ...  \n",
       "340     114.846122             1.591173  \n",
       "341     115.659782             1.626110  \n",
       "342     116.366733             1.639156  \n",
       "343     117.087022             1.674641  \n",
       "344     117.994053             1.673073  \n",
       "\n",
       "[345 rows x 13 columns]"
      ]
     },
     "execution_count": 5,
     "metadata": {},
     "output_type": "execute_result"
    }
   ],
   "source": [
    "#2>\n",
    "\n",
    "#Deal with data collected\n",
    "hongkong = pd.concat(datas, axis = 0, ignore_index=True)\n",
    "datetime = [each[-14:-4] for each in links]\n",
    "\n",
    "#Do some modification\n",
    "hongkong[\"Province/State\"] = hongkong[\"Province/State\"].mode()[0]\n",
    "hongkong[\"Country/Region\"] = hongkong[\"Country_Region\"].mode()[0]\n",
    "hongkong[\"Confirmed\"] = hongkong[\"Confirmed\"].fillna(0)\n",
    "hongkong[\"Deaths\"] = hongkong[\"Deaths\"].fillna(0)\n",
    "hongkong[\"Active\"] = hongkong[\"Active\"].fillna(0)\n",
    "hongkong[\"Recovered\"] = hongkong[\"Recovered\"].fillna(0)\n",
    "hongkong[\"Last Update\"] = hongkong[\"Last Update\"].fillna(hongkong[\"Last_Update\"])\n",
    "hongkong[\"Latitude\"] = hongkong[\"Lat\"].mean()\n",
    "hongkong[\"Longitude\"] = hongkong[\"Long_\"].mean()\n",
    "hongkong[\"Incident_Rate\"] = hongkong[\"Incident_Rate\"].fillna(hongkong[\"Incidence_Rate\"])\n",
    "hongkong[\"Case_Fatality_Ratio\"] = hongkong[\"Case_Fatality_Ratio\"].fillna(hongkong[\"Case-Fatality_Ratio\"])\n",
    "hongkong[\"Combined_Key\"] = hongkong[\"Combined_Key\"].fillna(hongkong[\"Combined_Key\"].mode()[0])\n",
    "\n",
    "result = hongkong.drop(columns = [\"Country_Region\", \"Province_State\", \"FIPS\", \"Admin2\", \"Incidence_Rate\", \"Last_Update\", \"Lat\", \"Long_\", \"Case-Fatality_Ratio\"])\n",
    "result.insert(5, 'Active', result.pop(\"Active\"))\n",
    "result.insert(0, 'Date', datetime)\n",
    "result[\"Last Update\"] = pd.to_datetime(result[\"Last Update\"])\n",
    "result[\"Date\"] = pd.to_datetime(result[\"Date\"])\n",
    "result = result.sort_values(by = [\"Date\"])\n",
    "result"
   ]
  },
  {
   "cell_type": "code",
   "execution_count": 6,
   "metadata": {},
   "outputs": [],
   "source": [
    "#Save as csv\n",
    "\n",
    "result.to_csv(\"Covid19_HongKong.csv\")"
   ]
  },
  {
   "cell_type": "code",
   "execution_count": 7,
   "metadata": {},
   "outputs": [
    {
     "data": {
      "text/plain": [
       "Text(0.5, 1.0, 'Accumulated Covid-19 cases in Hong Kong')"
      ]
     },
     "execution_count": 7,
     "metadata": {},
     "output_type": "execute_result"
    },
    {
     "data": {
      "image/png": "[encoded data removed]",
      "text/plain": [
       "<Figure size 432x288 with 1 Axes>"
      ]
     },
     "metadata": {
      "needs_background": "light"
     },
     "output_type": "display_data"
    }
   ],
   "source": [
    "#3>\n",
    "\n",
    "sns.lineplot(x = result.Date, y = result.Confirmed).set_title(\"Accumulated Covid-19 cases in Hong Kong\")"
   ]
  },
  {
   "cell_type": "code",
   "execution_count": 8,
   "metadata": {},
   "outputs": [
    {
     "data": {
      "text/plain": [
       "Text(0.5, 1.0, 'Daily new Covid-19 cases in Hong Kong')"
      ]
     },
     "execution_count": 8,
     "metadata": {},
     "output_type": "execute_result"
    },
    {
     "data": {
      "image/png": "[encoded data removed]",
      "text/plain": [
       "<Figure size 432x288 with 1 Axes>"
      ]
     },
     "metadata": {
      "needs_background": "light"
     },
     "output_type": "display_data"
    }
   ],
   "source": [
    "#4>\n",
    "\n",
    "ylist = [0,]\n",
    "for i in range(1,len(result)):\n",
    "    ylist.append(result.iloc[i][4] - result.iloc[i-1][4])\n",
    "\n",
    "sns.lineplot(x = result.Date, y = ylist).set_ylabel(\"Daily New\")\n",
    "sns.lineplot().set_title(\"Daily new Covid-19 cases in Hong Kong\")"
   ]
  },
  {
   "cell_type": "code",
   "execution_count": 81,
   "metadata": {},
   "outputs": [
    {
     "name": "stderr",
     "output_type": "stream",
     "text": [
      "/opt/anaconda3/envs/Analysis/lib/python3.8/site-packages/sklearn/utils/validation.py:985: DataConversionWarning: A column-vector y was passed when a 1d array was expected. Please change the shape of y to (n_samples, ), for example using ravel().\n",
      "  y = column_or_1d(y, warn=True)\n"
     ]
    },
    {
     "data": {
      "text/plain": [
       "Text(0.5, 1.0, 'Predict cases')"
      ]
     },
     "execution_count": 81,
     "metadata": {},
     "output_type": "execute_result"
    },
    {
     "data": {
      "image/png": "[encoded data removed]",
      "text/plain": [
       "<Figure size 432x288 with 1 Axes>"
      ]
     },
     "metadata": {
      "needs_background": "light"
     },
     "output_type": "display_data"
    }
   ],
   "source": [
    "import numpy as np\n",
    "\n",
    "Xtrain = np.array(list(range(345))).reshape(-1,1)\n",
    "Ytrain = np.array(result.Confirmed).reshape(-1,1)\n",
    "clf = svm.SVC(gamma=0.01)\n",
    "clf.fit(Xtrain , Ytrain)\n",
    "\n",
    "testtime = pd.date_range(\"2021-01-01\",\"2021-02-01\")\n",
    "Xtest = np.array(list(range(345,345+32))).reshape(-1,1)\n",
    "Ypredic = clf.predict(Xtest)\n",
    "\n",
    "sns.lineplot(x = testtime, y = Ypredic).set_ylabel(\"Daily New predict\")\n",
    "sns.lineplot().set_title(\"Predict cases\")"
   ]
  }
 ],
 "metadata": {
  "interpreter": {
   "hash": "bb08e57ac5147e40eddaf08ab1ffc995e42eaaf3371d3f9652521c513b7e8046"
  },
  "kernelspec": {
   "display_name": "Python 3.8.12 64-bit ('Analysis': conda)",
   "language": "python",
   "name": "python3"
  },
  "language_info": {
   "codemirror_mode": {
    "name": "ipython",
    "version": 3
   },
   "file_extension": ".py",
   "mimetype": "text/x-python",
   "name": "python",
   "nbconvert_exporter": "python",
   "pygments_lexer": "ipython3",
   "version": "3.8.12"
  },
  "orig_nbformat": 4
 },
 "nbformat": 4,
 "nbformat_minor": 2
}
